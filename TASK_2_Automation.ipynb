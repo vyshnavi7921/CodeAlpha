{
  "nbformat": 4,
  "nbformat_minor": 0,
  "metadata": {
    "colab": {
      "provenance": [],
      "authorship_tag": "ABX9TyNmfU0Kq4a9uO8VZed4mPbi",
      "include_colab_link": true
    },
    "kernelspec": {
      "name": "python3",
      "display_name": "Python 3"
    },
    "language_info": {
      "name": "python"
    }
  },
  "cells": [
    {
      "cell_type": "markdown",
      "metadata": {
        "id": "view-in-github",
        "colab_type": "text"
      },
      "source": [
        "<a href=\"https://colab.research.google.com/github/vyshnavi7921/CodeAlpha/blob/main/TASK_2_Automation.ipynb\" target=\"_parent\"><img src=\"https://colab.research.google.com/assets/colab-badge.svg\" alt=\"Open In Colab\"/></a>"
      ]
    },
    {
      "cell_type": "code",
      "source": [
        "import os\n",
        "import shutil\n",
        "import datetime\n",
        "\n",
        "folder_path = input(\"Enter folder path: \")\n",
        "backup_path = os.path.join(folder_path, \"backup_\" + datetime.datetime.now().strftime(\"%Y%m%d_%H%M%S\"))\n",
        "\n",
        "# Create a backup directory\n",
        "os.makedirs(backup_path, exist_ok=True)\n",
        "\n",
        "extensions = {\n",
        "    'Images': ['.jpeg', '.jpg', '.png', '.gif', '.JPG'],\n",
        "    'Documents': ['.doc', '.docx', '.pdf', '.txt', '.xls', '.xlsx', '.rtf', '.xlsm', '.ppt', '.pptx'],\n",
        "    'Music': ['.mp3', '.wav'],\n",
        "    'Videos': ['.mp4', '.avi', '.mkv', '.webm'],\n",
        "    'Compressed': ['.zip', '.rar'],\n",
        "    'Software': ['.exe'],\n",
        "    'Adobe Preset': ['.prfpset'],\n",
        "    'Icon Pack': ['.ico'],\n",
        "    'RainMeter': ['.rmskin'],\n",
        "    'NodeJs': ['.msi']\n",
        "}\n",
        "\n",
        "for filename in os.listdir(folder_path):\n",
        "    for category, exts in extensions.items():\n",
        "        for ext in exts:\n",
        "            if filename.endswith(ext):\n",
        "                source_path = os.path.join(folder_path, filename)\n",
        "                destination_path = os.path.join(folder_path, category)\n",
        "\n",
        "                # Create category folder if it doesn't exist\n",
        "                if not os.path.exists(destination_path):\n",
        "                    os.makedirs(destination_path)\n",
        "\n",
        "                # Backup the file\n",
        "                shutil.copy2(source_path, backup_path)\n",
        "                print(f\"Backed up {filename} to {backup_path}\")\n",
        "\n",
        "                # Check for file duplication\n",
        "                destination_file_path = os.path.join(destination_path, filename)\n",
        "                if os.path.exists(destination_file_path):\n",
        "                    print(f\"File {filename} already exists in {category}. Skipping move.\")\n",
        "                else:\n",
        "                    # Move file to category folder\n",
        "                    shutil.move(source_path, destination_path)\n",
        "                    print(f\"Moved {filename} to {category}\")\n",
        "\n",
        "                # Exit inner for loop if file has been moved or backed up\n",
        "                break\n",
        "\n",
        "# Indicate completion of the task\n",
        "print(\"\\n\\nBackup and organization task completed.\")\n",
        ""
      ],
      "metadata": {
        "id": "ifO3g3KIkYFt"
      },
      "execution_count": null,
      "outputs": []
    }
  ]
}